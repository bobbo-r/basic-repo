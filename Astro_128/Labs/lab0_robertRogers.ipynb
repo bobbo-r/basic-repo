{
 "cells": [
  {
   "cell_type": "code",
   "execution_count": 18,
   "id": "f8073543",
   "metadata": {},
   "outputs": [
    {
     "name": "stdout",
     "output_type": "stream",
     "text": [
      "INFO: Retrieving tables... [astroquery.utils.tap.core]\n",
      "INFO: Parsing tables... [astroquery.utils.tap.core]\n",
      "INFO: Done. [astroquery.utils.tap.core]\n"
     ]
    },
    {
     "data": {
      "text/plain": [
       "\"\\n\\nx = df['bp_rp']\\ny = \\n\\nplt.figure(figsize=(8, 6))\\nplt.scatter(x, y, label='Source from Hyades Cluster')\\n#plt.gca().invert_xaxis()\\nplt.title('Gaia DR3: Color-Magnitude Diagram of Hyades Sources')\\nplt.xlabel('Bp - Rp')\\nplt.ylabel('G - Rp')\\nplt.legend()\\n#plt.grid(True)\\nplt.show()\\n\\n\""
      ]
     },
     "execution_count": 18,
     "metadata": {},
     "output_type": "execute_result"
    }
   ],
   "source": [
    "%matplotlib inline\n",
    "from astroquery.gaia import Gaia #you need this to query\n",
    "import pandas as pd #for table\n",
    "import numpy as np\n",
    "import matplotlib.pyplot as plt\n",
    "\n",
    "tables = Gaia.load_tables(only_names=True)\n",
    "query1 = \"\"\"SELECT \n",
    "TOP 10\n",
    "source_id, ra, dec, parallax \n",
    "FROM gaiadr3.gaia_source\n",
    "\"\"\"\n",
    "job = Gaia.launch_job(query1)\n",
    "\n",
    "#print(job) prints metadata of table\n",
    "\n",
    "results = job.get_results()\n",
    "type(results) #makes results into a table so that Python can print it\n",
    "\n",
    "\n",
    "\n",
    "\"\"\"\n",
    "\n",
    "x = df['bp_rp']\n",
    "y = \n",
    "\n",
    "plt.figure(figsize=(8, 6))\n",
    "plt.scatter(x, y, label='Source from Hyades Cluster')\n",
    "#plt.gca().invert_xaxis()\n",
    "plt.title('Gaia DR3: Color-Magnitude Diagram of Hyades Sources')\n",
    "plt.xlabel('Bp - Rp')\n",
    "plt.ylabel('G - Rp')\n",
    "plt.legend()\n",
    "#plt.grid(True)\n",
    "plt.show()\n",
    "\n",
    "\"\"\"\n"
   ]
  },
  {
   "cell_type": "code",
   "execution_count": 19,
   "id": "1b1b05bd",
   "metadata": {},
   "outputs": [
    {
     "data": {
      "text/html": [
       "<div><i>Table length=10</i>\n",
       "<table id=\"table6630440848\" class=\"table-striped table-bordered table-condensed\">\n",
       "<thead><tr><th>source_id</th><th>ra</th><th>dec</th><th>parallax</th></tr></thead>\n",
       "<thead><tr><th></th><th>deg</th><th>deg</th><th>mas</th></tr></thead>\n",
       "<thead><tr><th>int64</th><th>float64</th><th>float64</th><th>float64</th></tr></thead>\n",
       "<tr><td>4063131116117299072</td><td>270.9852770084798</td><td>-27.477523359763282</td><td>-0.030853600149849444</td></tr>\n",
       "<tr><td>4063131116117300480</td><td>270.9822342823027</td><td>-27.480047676809733</td><td>--</td></tr>\n",
       "<tr><td>4063131116117300608</td><td>270.9824668488658</td><td>-27.479110930940987</td><td>-0.30704703184637877</td></tr>\n",
       "<tr><td>4063131116117301248</td><td>270.9808159515077</td><td>-27.481193654270783</td><td>-3.9848482052121748</td></tr>\n",
       "<tr><td>4063131116117301760</td><td>270.99008314959985</td><td>-27.472668680045224</td><td>0.36715886239677165</td></tr>\n",
       "<tr><td>4063131116117308800</td><td>270.98193981377216</td><td>-27.479269257475792</td><td>-0.8598000176624188</td></tr>\n",
       "<tr><td>4063131116117309952</td><td>270.9832295655245</td><td>-27.477748182650593</td><td>--</td></tr>\n",
       "<tr><td>4063131116117310080</td><td>270.9824982899753</td><td>-27.47835186867817</td><td>-0.25618041886774934</td></tr>\n",
       "<tr><td>4063131116117315968</td><td>270.9888648796444</td><td>-27.47207167976765</td><td>1.094451437558921</td></tr>\n",
       "<tr><td>4063131116117316992</td><td>270.98589176034113</td><td>-27.473999741456048</td><td>-0.0458188161489418</td></tr>\n",
       "</table></div>"
      ],
      "text/plain": [
       "<Table length=10>\n",
       "     source_id              ra                 dec                parallax      \n",
       "                           deg                 deg                  mas         \n",
       "       int64             float64             float64              float64       \n",
       "------------------- ------------------ ------------------- ---------------------\n",
       "4063131116117299072  270.9852770084798 -27.477523359763282 -0.030853600149849444\n",
       "4063131116117300480  270.9822342823027 -27.480047676809733                    --\n",
       "4063131116117300608  270.9824668488658 -27.479110930940987  -0.30704703184637877\n",
       "4063131116117301248  270.9808159515077 -27.481193654270783   -3.9848482052121748\n",
       "4063131116117301760 270.99008314959985 -27.472668680045224   0.36715886239677165\n",
       "4063131116117308800 270.98193981377216 -27.479269257475792   -0.8598000176624188\n",
       "4063131116117309952  270.9832295655245 -27.477748182650593                    --\n",
       "4063131116117310080  270.9824982899753  -27.47835186867817  -0.25618041886774934\n",
       "4063131116117315968  270.9888648796444  -27.47207167976765     1.094451437558921\n",
       "4063131116117316992 270.98589176034113 -27.473999741456048   -0.0458188161489418"
      ]
     },
     "execution_count": 19,
     "metadata": {},
     "output_type": "execute_result"
    }
   ],
   "source": [
    "results"
   ]
  },
  {
   "cell_type": "code",
   "execution_count": null,
   "id": "6e9027d0",
   "metadata": {},
   "outputs": [],
   "source": [
    "# use BP - RP as color (x-axis) and ... what is absolute magnitude for y-axis?\n",
    "#ask!\n"
   ]
  }
 ],
 "metadata": {
  "kernelspec": {
   "display_name": "Python 3 (ipykernel)",
   "language": "python",
   "name": "python3"
  },
  "language_info": {
   "codemirror_mode": {
    "name": "ipython",
    "version": 3
   },
   "file_extension": ".py",
   "mimetype": "text/x-python",
   "name": "python",
   "nbconvert_exporter": "python",
   "pygments_lexer": "ipython3",
   "version": "3.11.5"
  }
 },
 "nbformat": 4,
 "nbformat_minor": 5
}
